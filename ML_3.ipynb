{
  "nbformat": 4,
  "nbformat_minor": 0,
  "metadata": {
    "colab": {
      "provenance": [],
      "authorship_tag": "ABX9TyMYGxc0ACkLTeXCKY6S5FyM",
      "include_colab_link": true
    },
    "kernelspec": {
      "name": "python3",
      "display_name": "Python 3"
    },
    "language_info": {
      "name": "python"
    }
  },
  "cells": [
    {
      "cell_type": "markdown",
      "metadata": {
        "id": "view-in-github",
        "colab_type": "text"
      },
      "source": [
        "<a href=\"https://colab.research.google.com/github/mzagoska/II/blob/main/ML_3.ipynb\" target=\"_parent\"><img src=\"https://colab.research.google.com/assets/colab-badge.svg\" alt=\"Open In Colab\"/></a>"
      ]
    },
    {
      "cell_type": "code",
      "execution_count": 1,
      "metadata": {
        "id": "VFir7-bBV60P"
      },
      "outputs": [],
      "source": [
        "import numpy as np\n",
        "from typing import Tuple, Mapping\n",
        "import random\n",
        "from numba import njit\n",
        "import timeit"
      ]
    },
    {
      "cell_type": "code",
      "source": [
        "@njit\n",
        "def Booth(x: np.array, y:np.array) -> np.float128:\n",
        "  return (x + 2 * y - 7) * (x + 2 * y - 7) + (2 * x + y - 5) * (2 * x + y - 5)\n",
        "@njit\n",
        "def Booth_dfdx(x: np.array, y:np.array) -> np.float128:\n",
        "  return 10 * x + 8 * y - 34\n",
        "@njit\n",
        "def Booth_dfdy(x: np.array, y:np.array) -> np.float128:\n",
        "  return 10 * y + 8 * x - 38"
      ],
      "metadata": {
        "id": "PHj66ZgxWCA7"
      },
      "execution_count": 2,
      "outputs": []
    },
    {
      "cell_type": "code",
      "source": [
        "@njit\n",
        "def my_GD(f: Mapping, dx:Mapping, dy:Mapping, x0: float, y0: float, lr: float = 0.01,\n",
        "          T:int = 1000) -> Tuple [np.ndarray, np.float32]:\n",
        "  \"\"\"\n",
        "  Функция принимает:\n",
        "  f - функционал для оптимизации\n",
        "  dx, dy - градиент оптимизируемого функционала\n",
        "  x0, y0 - стартовая точка алгоритма\n",
        "  lr - скорость обучения (default: 0.01)\n",
        "  T - количество итераций (default: 1000)\n",
        "\n",
        "  Функция возвращает:\n",
        "  Кортеж, включающий в себя: координаты сгенерированной случайно начальной точки,\n",
        "  координаты полученной точки глобального минимума, значение функции в найденной\n",
        "  точке глобального минимума\n",
        "  \"\"\"\n",
        "  xt = x0\n",
        "  yt = y0\n",
        "\n",
        "  for i in range(T):\n",
        "    xt = xt - lr * dx(xt, yt)\n",
        "    yt = yt - lr * dy(xt, yt)\n",
        "  return x0, y0, xt, yt, f(xt, yt)"
      ],
      "metadata": {
        "id": "eskDbbKgWEK5"
      },
      "execution_count": 3,
      "outputs": []
    },
    {
      "cell_type": "code",
      "source": [
        "x0, y0, x, y, z = my_GD(Booth, Booth_dfdx, Booth_dfdy, 10, -10, lr = 0.1)\n",
        "print(\"Градиентный спуск\\nНачальная точка: x0 =\", x0, \", y0 =\", y0,\n",
        "      \"\\nТочка глобального минимума: xt =\", x, \", yt =\", y,\n",
        "      \"\\nЗначение функции в точке глобального минимума: f(xt, yt) =\", z)\n",
        "\n",
        "print(timeit.timeit(\"my_GD(Booth, Booth_dfdx, Booth_dfdy, 10, -10, lr = 0.1)\", globals=globals())) #with njit"
      ],
      "metadata": {
        "colab": {
          "base_uri": "https://localhost:8080/"
        },
        "id": "-Cayc2TkWEPr",
        "outputId": "e831c990-4492-4156-b47b-60e697af42f7"
      },
      "execution_count": 4,
      "outputs": [
        {
          "output_type": "stream",
          "name": "stdout",
          "text": [
            "Градиентный спуск\n",
            "Начальная точка: x0 = 10 , y0 = -10 \n",
            "Точка глобального минимума: xt = 1.0000000000000002 , yt = 2.9999999999999996 \n",
            "Значение функции в точке глобального минимума: f(xt, yt) = 7.888609052210118e-31\n",
            "47.09050411600002\n"
          ]
        }
      ]
    },
    {
      "cell_type": "code",
      "source": [
        "print(timeit.timeit(\"my_GD(Booth, Booth_dfdx, Booth_dfdy, 10, -10, lr = 0.1)\", globals=globals())) #without njit"
      ],
      "metadata": {
        "colab": {
          "base_uri": "https://localhost:8080/"
        },
        "id": "0iKN1F-mWHt6",
        "outputId": "7d9bb8a7-fb06-48ca-df23-b87060126685"
      },
      "execution_count": 5,
      "outputs": [
        {
          "output_type": "stream",
          "name": "stdout",
          "text": [
            "45.69335992800001\n"
          ]
        }
      ]
    },
    {
      "cell_type": "code",
      "source": [
        "@njit\n",
        "def my_GD_Momentum(f: Mapping, dx:Mapping, dy:Mapping, x0: float, y0: float, \n",
        "        beta: float = 0.9, T:int = 1000) -> Tuple [int, int, float, float, float]:\n",
        "  \"\"\"\n",
        "  Функция принимает:\n",
        "  f - функционал для оптимизации\n",
        "  dx, dy - градиент оптимизируемого функционала\n",
        "  x0, y0 - стартовая точка алгоритма\n",
        "  beta - коэффициент обучения (default: 0.9)\n",
        "  T - количество итераций (default: 1000)\n",
        "\n",
        "  Функция возвращает:\n",
        "  Кортеж, включающий в себя: координаты сгенерированной случайно начальной точки,\n",
        "  координаты полученной точки глобального минимума, значение функции в найденной\n",
        "  точке глобального минимума\n",
        "  \"\"\"\n",
        "  xt = x0\n",
        "  yt = y0\n",
        "\n",
        "  for i in range(T):\n",
        "    xt = xt * beta - (1 - beta) * dx(xt, yt)\n",
        "    yt = yt * beta - (1 - beta) * dy(xt, yt)\n",
        "  return x0, y0, xt, yt, f(xt, yt)"
      ],
      "metadata": {
        "id": "QBiGNNj9WUWS"
      },
      "execution_count": 6,
      "outputs": []
    },
    {
      "cell_type": "code",
      "source": [
        "x0, y0, p_x, p_y, p_z = my_GD_Momentum(Booth, Booth_dfdx, Booth_dfdy, x0=10, y0=-10)\n",
        "print(\"Алгоритм GD Momentum\\nНачальная точка: x0 =\", x0, \", y0 =\", y0,\n",
        "      \"\\nТочка глобального минимума: xt =\", p_x, \", yt =\", p_y,\n",
        "      \"\\nГлобальный минимум: f(xt, yt) =\", p_z)"
      ],
      "metadata": {
        "colab": {
          "base_uri": "https://localhost:8080/"
        },
        "id": "5OFUwPtjWY_K",
        "outputId": "0011e858-a05a-4bfc-96ac-926c549da5fd"
      },
      "execution_count": 7,
      "outputs": [
        {
          "output_type": "stream",
          "name": "stdout",
          "text": [
            "Алгоритм GD Momentum\n",
            "Начальная точка: x0 = 10 , y0 = -10 \n",
            "Точка глобального минимума: xt = 1.2280701754385972 , yt = 2.561403508771929 \n",
            "Глобальный минимум: f(xt, yt) = 0.4216682056017245\n"
          ]
        }
      ]
    },
    {
      "cell_type": "code",
      "source": [
        "@njit\n",
        "def my_GD_ADAM(f: Mapping, dx:Mapping, dy:Mapping, x0: float, y0: float,\n",
        "        lr: float = 0.1, beta1: float = 0.9, beta2: float = 0.99,\n",
        "        eps: float = 1e-8, T:int = 1000) -> Tuple [int, int, float, float, float]:\n",
        "  \"\"\"\n",
        "  Функция принимает:\n",
        "  f - функционал для оптимизации\n",
        "  dx, dy - градиент оптимизируемого функционала\n",
        "  x0, y0 - стартовая точка алгоритма\n",
        "  lr - коэффициент скорости обучения (default: 0.1)\n",
        "  beta1 - параметр (default: 0.9)\n",
        "  beta2 - параметр (default: 0.99)\n",
        "  eps - параметр (default: 1e-8)\n",
        "  T - количество итераций (default: 1000)\n",
        "\n",
        "  Функция возвращает:\n",
        "  Кортеж, включающий в себя: координаты сгенерированной случайно начальной точки,\n",
        "  координаты полученной точки глобального минимума, значение функции в найденной\n",
        "  точке глобального минимума\n",
        "  \"\"\"\n",
        "  xt = x0\n",
        "  yt = y0\n",
        "  vtx = 0\n",
        "  vty = 0\n",
        "  Gtx = 0\n",
        "  Gty = 0\n",
        "\n",
        "  for i in range (T):\n",
        "    grad_x = dx(xt, yt)\n",
        "    grad_y = dy(xt, yt)\n",
        "    vtx = beta1 * vtx + (1 - beta1) * grad_x\n",
        "    vty = beta1 * vty + (1 - beta1) * grad_y\n",
        "    Gtx = beta2 * Gtx + (1 - beta2) * (grad_x) ** 2\n",
        "    Gty = beta2 * Gty + (1 - beta2) * (grad_y) ** 2\n",
        "    xt = xt - lr * vtx / (Gtx + eps) ** (1 / 2)\n",
        "    yt = yt - lr * vty / (Gty + eps) ** (1 / 2)\n",
        "  return x0, y0, xt, yt, f(xt, yt)"
      ],
      "metadata": {
        "id": "sJqTUeAiWnAy"
      },
      "execution_count": 8,
      "outputs": []
    },
    {
      "cell_type": "code",
      "source": [
        "x0, y0, p_x, p_y, p_z = my_GD_ADAM(Booth, Booth_dfdx,Booth_dfdy, x0=10, y0=-10)\n",
        "print(\"Алгоритм GD ADAM\\nНачальная точка: x0 =\", x0, \", y0 =\", y0,\n",
        "      \"\\nТочка глобального минимума: xt =\", p_x, \", yt =\", p_y,\n",
        "      \"\\nГлобальный минимум: f(xt, yt) =\", p_z)"
      ],
      "metadata": {
        "colab": {
          "base_uri": "https://localhost:8080/"
        },
        "id": "TaPHXBV4WpDL",
        "outputId": "99ae3b80-ea42-4440-ccbb-5a30fe404b71"
      },
      "execution_count": 9,
      "outputs": [
        {
          "output_type": "stream",
          "name": "stdout",
          "text": [
            "Алгоритм GD ADAM\n",
            "Начальная точка: x0 = 10 , y0 = -10 \n",
            "Точка глобального минимума: xt = 1.0 , yt = 3.0000000000000018 \n",
            "Глобальный минимум: f(xt, yt) = 1.5777218104420236e-29\n"
          ]
        }
      ]
    }
  ]
}